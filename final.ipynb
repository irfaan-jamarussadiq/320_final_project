{
 "metadata": {
  "language_info": {
   "codemirror_mode": {
    "name": "ipython",
    "version": 3
   },
   "file_extension": ".py",
   "mimetype": "text/x-python",
   "name": "python",
   "nbconvert_exporter": "python",
   "pygments_lexer": "ipython3",
   "version": "3.9.1"
  },
  "orig_nbformat": 2,
  "kernelspec": {
   "name": "python391jvsc74a57bd063fd5069d213b44bf678585dea6b12cceca9941eaf7f819626cde1f2670de90d",
   "display_name": "Python 3.9.1 64-bit"
  },
  "metadata": {
   "interpreter": {
    "hash": "63fd5069d213b44bf678585dea6b12cceca9941eaf7f819626cde1f2670de90d"
   }
  }
 },
 "nbformat": 4,
 "nbformat_minor": 2,
 "cells": [
  {
   "source": [
    "## Motivation\n",
    "\n",
    "Recently, India has experienced an increase in COVID-19 cases and deaths. With insufficient medical resources and poor living conditions, many people have to unfortunately be turned away from hospitals in favor of people with more severe cases. But until now, it seemed as if India was doing well with the pandemic! So what has happened recently to change that? In this notebook we will explore that question and investigate which locations within India have it the worst and need medical resources the most."
   ],
   "cell_type": "markdown",
   "metadata": {}
  },
  {
   "source": [
    "## Data Source\n",
    "\n",
    "The data was provided by Our World in Data from https://ourworldindata.org/covid-vaccinations?country=IND."
   ],
   "cell_type": "markdown",
   "metadata": {}
  },
  {
   "source": [
    "Because the data contains information about COVID cases from countries all around the world, we need to first filter the data so that we only look at data from India."
   ],
   "cell_type": "markdown",
   "metadata": {}
  },
  {
   "cell_type": "code",
   "execution_count": 4,
   "metadata": {},
   "outputs": [
    {
     "output_type": "execute_result",
     "data": {
      "text/plain": [
       "      iso_code continent location        date  total_cases  new_cases  \\\n",
       "34932      IND      Asia    India  2020-01-30          1.0        1.0   \n",
       "34933      IND      Asia    India  2020-01-31          1.0        0.0   \n",
       "34934      IND      Asia    India  2020-02-01          1.0        0.0   \n",
       "34935      IND      Asia    India  2020-02-02          2.0        1.0   \n",
       "34936      IND      Asia    India  2020-02-03          3.0        1.0   \n",
       "...        ...       ...      ...         ...          ...        ...   \n",
       "35383      IND      Asia    India  2021-04-25   17313163.0   352991.0   \n",
       "35384      IND      Asia    India  2021-04-26   17636186.0   323023.0   \n",
       "35385      IND      Asia    India  2021-04-27   17997113.0   360927.0   \n",
       "35386      IND      Asia    India  2021-04-28   18376421.0   379308.0   \n",
       "35387      IND      Asia    India  2021-04-29   18762976.0   386555.0   \n",
       "\n",
       "       new_cases_smoothed  total_deaths  new_deaths  new_deaths_smoothed  ...  \\\n",
       "34932                 NaN           NaN         NaN                  NaN  ...   \n",
       "34933                 NaN           NaN         NaN                  NaN  ...   \n",
       "34934                 NaN           NaN         NaN                  NaN  ...   \n",
       "34935                 NaN           NaN         NaN                  NaN  ...   \n",
       "34936                 NaN           NaN         NaN                  NaN  ...   \n",
       "...                   ...           ...         ...                  ...  ...   \n",
       "35383          321622.571      195123.0      2812.0             2336.286  ...   \n",
       "35384          330744.857      197894.0      2771.0             2480.571  ...   \n",
       "35385          340140.429      201187.0      3293.0             2662.000  ...   \n",
       "35386          349378.143      204832.0      3645.0             2882.143  ...   \n",
       "35387          357040.143      208330.0      3498.0             3058.571  ...   \n",
       "\n",
       "       gdp_per_capita  extreme_poverty  cardiovasc_death_rate  \\\n",
       "34932        6426.674             21.2                 282.28   \n",
       "34933        6426.674             21.2                 282.28   \n",
       "34934        6426.674             21.2                 282.28   \n",
       "34935        6426.674             21.2                 282.28   \n",
       "34936        6426.674             21.2                 282.28   \n",
       "...               ...              ...                    ...   \n",
       "35383        6426.674             21.2                 282.28   \n",
       "35384        6426.674             21.2                 282.28   \n",
       "35385        6426.674             21.2                 282.28   \n",
       "35386        6426.674             21.2                 282.28   \n",
       "35387        6426.674             21.2                 282.28   \n",
       "\n",
       "       diabetes_prevalence  female_smokers  male_smokers  \\\n",
       "34932                10.39             1.9          20.6   \n",
       "34933                10.39             1.9          20.6   \n",
       "34934                10.39             1.9          20.6   \n",
       "34935                10.39             1.9          20.6   \n",
       "34936                10.39             1.9          20.6   \n",
       "...                    ...             ...           ...   \n",
       "35383                10.39             1.9          20.6   \n",
       "35384                10.39             1.9          20.6   \n",
       "35385                10.39             1.9          20.6   \n",
       "35386                10.39             1.9          20.6   \n",
       "35387                10.39             1.9          20.6   \n",
       "\n",
       "       handwashing_facilities  hospital_beds_per_thousand  life_expectancy  \\\n",
       "34932                   59.55                        0.53            69.66   \n",
       "34933                   59.55                        0.53            69.66   \n",
       "34934                   59.55                        0.53            69.66   \n",
       "34935                   59.55                        0.53            69.66   \n",
       "34936                   59.55                        0.53            69.66   \n",
       "...                       ...                         ...              ...   \n",
       "35383                   59.55                        0.53            69.66   \n",
       "35384                   59.55                        0.53            69.66   \n",
       "35385                   59.55                        0.53            69.66   \n",
       "35386                   59.55                        0.53            69.66   \n",
       "35387                   59.55                        0.53            69.66   \n",
       "\n",
       "       human_development_index  \n",
       "34932                    0.645  \n",
       "34933                    0.645  \n",
       "34934                    0.645  \n",
       "34935                    0.645  \n",
       "34936                    0.645  \n",
       "...                        ...  \n",
       "35383                    0.645  \n",
       "35384                    0.645  \n",
       "35385                    0.645  \n",
       "35386                    0.645  \n",
       "35387                    0.645  \n",
       "\n",
       "[456 rows x 59 columns]"
      ],
      "text/html": "<div>\n<style scoped>\n    .dataframe tbody tr th:only-of-type {\n        vertical-align: middle;\n    }\n\n    .dataframe tbody tr th {\n        vertical-align: top;\n    }\n\n    .dataframe thead th {\n        text-align: right;\n    }\n</style>\n<table border=\"1\" class=\"dataframe\">\n  <thead>\n    <tr style=\"text-align: right;\">\n      <th></th>\n      <th>iso_code</th>\n      <th>continent</th>\n      <th>location</th>\n      <th>date</th>\n      <th>total_cases</th>\n      <th>new_cases</th>\n      <th>new_cases_smoothed</th>\n      <th>total_deaths</th>\n      <th>new_deaths</th>\n      <th>new_deaths_smoothed</th>\n      <th>...</th>\n      <th>gdp_per_capita</th>\n      <th>extreme_poverty</th>\n      <th>cardiovasc_death_rate</th>\n      <th>diabetes_prevalence</th>\n      <th>female_smokers</th>\n      <th>male_smokers</th>\n      <th>handwashing_facilities</th>\n      <th>hospital_beds_per_thousand</th>\n      <th>life_expectancy</th>\n      <th>human_development_index</th>\n    </tr>\n  </thead>\n  <tbody>\n    <tr>\n      <th>34932</th>\n      <td>IND</td>\n      <td>Asia</td>\n      <td>India</td>\n      <td>2020-01-30</td>\n      <td>1.0</td>\n      <td>1.0</td>\n      <td>NaN</td>\n      <td>NaN</td>\n      <td>NaN</td>\n      <td>NaN</td>\n      <td>...</td>\n      <td>6426.674</td>\n      <td>21.2</td>\n      <td>282.28</td>\n      <td>10.39</td>\n      <td>1.9</td>\n      <td>20.6</td>\n      <td>59.55</td>\n      <td>0.53</td>\n      <td>69.66</td>\n      <td>0.645</td>\n    </tr>\n    <tr>\n      <th>34933</th>\n      <td>IND</td>\n      <td>Asia</td>\n      <td>India</td>\n      <td>2020-01-31</td>\n      <td>1.0</td>\n      <td>0.0</td>\n      <td>NaN</td>\n      <td>NaN</td>\n      <td>NaN</td>\n      <td>NaN</td>\n      <td>...</td>\n      <td>6426.674</td>\n      <td>21.2</td>\n      <td>282.28</td>\n      <td>10.39</td>\n      <td>1.9</td>\n      <td>20.6</td>\n      <td>59.55</td>\n      <td>0.53</td>\n      <td>69.66</td>\n      <td>0.645</td>\n    </tr>\n    <tr>\n      <th>34934</th>\n      <td>IND</td>\n      <td>Asia</td>\n      <td>India</td>\n      <td>2020-02-01</td>\n      <td>1.0</td>\n      <td>0.0</td>\n      <td>NaN</td>\n      <td>NaN</td>\n      <td>NaN</td>\n      <td>NaN</td>\n      <td>...</td>\n      <td>6426.674</td>\n      <td>21.2</td>\n      <td>282.28</td>\n      <td>10.39</td>\n      <td>1.9</td>\n      <td>20.6</td>\n      <td>59.55</td>\n      <td>0.53</td>\n      <td>69.66</td>\n      <td>0.645</td>\n    </tr>\n    <tr>\n      <th>34935</th>\n      <td>IND</td>\n      <td>Asia</td>\n      <td>India</td>\n      <td>2020-02-02</td>\n      <td>2.0</td>\n      <td>1.0</td>\n      <td>NaN</td>\n      <td>NaN</td>\n      <td>NaN</td>\n      <td>NaN</td>\n      <td>...</td>\n      <td>6426.674</td>\n      <td>21.2</td>\n      <td>282.28</td>\n      <td>10.39</td>\n      <td>1.9</td>\n      <td>20.6</td>\n      <td>59.55</td>\n      <td>0.53</td>\n      <td>69.66</td>\n      <td>0.645</td>\n    </tr>\n    <tr>\n      <th>34936</th>\n      <td>IND</td>\n      <td>Asia</td>\n      <td>India</td>\n      <td>2020-02-03</td>\n      <td>3.0</td>\n      <td>1.0</td>\n      <td>NaN</td>\n      <td>NaN</td>\n      <td>NaN</td>\n      <td>NaN</td>\n      <td>...</td>\n      <td>6426.674</td>\n      <td>21.2</td>\n      <td>282.28</td>\n      <td>10.39</td>\n      <td>1.9</td>\n      <td>20.6</td>\n      <td>59.55</td>\n      <td>0.53</td>\n      <td>69.66</td>\n      <td>0.645</td>\n    </tr>\n    <tr>\n      <th>...</th>\n      <td>...</td>\n      <td>...</td>\n      <td>...</td>\n      <td>...</td>\n      <td>...</td>\n      <td>...</td>\n      <td>...</td>\n      <td>...</td>\n      <td>...</td>\n      <td>...</td>\n      <td>...</td>\n      <td>...</td>\n      <td>...</td>\n      <td>...</td>\n      <td>...</td>\n      <td>...</td>\n      <td>...</td>\n      <td>...</td>\n      <td>...</td>\n      <td>...</td>\n      <td>...</td>\n    </tr>\n    <tr>\n      <th>35383</th>\n      <td>IND</td>\n      <td>Asia</td>\n      <td>India</td>\n      <td>2021-04-25</td>\n      <td>17313163.0</td>\n      <td>352991.0</td>\n      <td>321622.571</td>\n      <td>195123.0</td>\n      <td>2812.0</td>\n      <td>2336.286</td>\n      <td>...</td>\n      <td>6426.674</td>\n      <td>21.2</td>\n      <td>282.28</td>\n      <td>10.39</td>\n      <td>1.9</td>\n      <td>20.6</td>\n      <td>59.55</td>\n      <td>0.53</td>\n      <td>69.66</td>\n      <td>0.645</td>\n    </tr>\n    <tr>\n      <th>35384</th>\n      <td>IND</td>\n      <td>Asia</td>\n      <td>India</td>\n      <td>2021-04-26</td>\n      <td>17636186.0</td>\n      <td>323023.0</td>\n      <td>330744.857</td>\n      <td>197894.0</td>\n      <td>2771.0</td>\n      <td>2480.571</td>\n      <td>...</td>\n      <td>6426.674</td>\n      <td>21.2</td>\n      <td>282.28</td>\n      <td>10.39</td>\n      <td>1.9</td>\n      <td>20.6</td>\n      <td>59.55</td>\n      <td>0.53</td>\n      <td>69.66</td>\n      <td>0.645</td>\n    </tr>\n    <tr>\n      <th>35385</th>\n      <td>IND</td>\n      <td>Asia</td>\n      <td>India</td>\n      <td>2021-04-27</td>\n      <td>17997113.0</td>\n      <td>360927.0</td>\n      <td>340140.429</td>\n      <td>201187.0</td>\n      <td>3293.0</td>\n      <td>2662.000</td>\n      <td>...</td>\n      <td>6426.674</td>\n      <td>21.2</td>\n      <td>282.28</td>\n      <td>10.39</td>\n      <td>1.9</td>\n      <td>20.6</td>\n      <td>59.55</td>\n      <td>0.53</td>\n      <td>69.66</td>\n      <td>0.645</td>\n    </tr>\n    <tr>\n      <th>35386</th>\n      <td>IND</td>\n      <td>Asia</td>\n      <td>India</td>\n      <td>2021-04-28</td>\n      <td>18376421.0</td>\n      <td>379308.0</td>\n      <td>349378.143</td>\n      <td>204832.0</td>\n      <td>3645.0</td>\n      <td>2882.143</td>\n      <td>...</td>\n      <td>6426.674</td>\n      <td>21.2</td>\n      <td>282.28</td>\n      <td>10.39</td>\n      <td>1.9</td>\n      <td>20.6</td>\n      <td>59.55</td>\n      <td>0.53</td>\n      <td>69.66</td>\n      <td>0.645</td>\n    </tr>\n    <tr>\n      <th>35387</th>\n      <td>IND</td>\n      <td>Asia</td>\n      <td>India</td>\n      <td>2021-04-29</td>\n      <td>18762976.0</td>\n      <td>386555.0</td>\n      <td>357040.143</td>\n      <td>208330.0</td>\n      <td>3498.0</td>\n      <td>3058.571</td>\n      <td>...</td>\n      <td>6426.674</td>\n      <td>21.2</td>\n      <td>282.28</td>\n      <td>10.39</td>\n      <td>1.9</td>\n      <td>20.6</td>\n      <td>59.55</td>\n      <td>0.53</td>\n      <td>69.66</td>\n      <td>0.645</td>\n    </tr>\n  </tbody>\n</table>\n<p>456 rows × 59 columns</p>\n</div>"
     },
     "metadata": {},
     "execution_count": 4
    }
   ],
   "source": [
    "import pandas as pd\n",
    "\n",
    "df = pd.read_csv('covid_india.csv')\n",
    "df = df[df['location'] == 'India']\n",
    "df"
   ]
  },
  {
   "source": [
    "Now that we have the appropriate data, we can inspect the data to determine whether there are any missing values."
   ],
   "cell_type": "markdown",
   "metadata": {}
  },
  {
   "cell_type": "code",
   "execution_count": 11,
   "metadata": {},
   "outputs": [
    {
     "output_type": "execute_result",
     "data": {
      "text/plain": [
       "iso_code                                   0\n",
       "continent                                  0\n",
       "location                                   0\n",
       "date                                       0\n",
       "total_cases                                0\n",
       "new_cases                                  0\n",
       "new_cases_smoothed                         5\n",
       "total_deaths                              41\n",
       "new_deaths                                41\n",
       "new_deaths_smoothed                        5\n",
       "total_cases_per_million                    0\n",
       "new_cases_per_million                      0\n",
       "new_cases_smoothed_per_million             5\n",
       "total_deaths_per_million                  41\n",
       "new_deaths_per_million                    41\n",
       "new_deaths_smoothed_per_million            5\n",
       "reproduction_rate                         47\n",
       "icu_patients                             456\n",
       "icu_patients_per_million                 456\n",
       "hosp_patients                            456\n",
       "hosp_patients_per_million                456\n",
       "weekly_icu_admissions                    456\n",
       "weekly_icu_admissions_per_million        456\n",
       "weekly_hosp_admissions                   456\n",
       "weekly_hosp_admissions_per_million       456\n",
       "new_tests                                 67\n",
       "total_tests                               58\n",
       "total_tests_per_thousand                  58\n",
       "new_tests_per_thousand                    67\n",
       "new_tests_smoothed                        50\n",
       "new_tests_smoothed_per_thousand           50\n",
       "positive_rate                             50\n",
       "tests_per_case                            50\n",
       "tests_units                               43\n",
       "total_vaccinations                       355\n",
       "people_vaccinated                        355\n",
       "people_fully_vaccinated                  384\n",
       "new_vaccinations                         359\n",
       "new_vaccinations_smoothed                352\n",
       "total_vaccinations_per_hundred           355\n",
       "people_vaccinated_per_hundred            355\n",
       "people_fully_vaccinated_per_hundred      384\n",
       "new_vaccinations_smoothed_per_million    352\n",
       "stringency_index                          17\n",
       "population                                 0\n",
       "population_density                         0\n",
       "median_age                                 0\n",
       "aged_65_older                              0\n",
       "aged_70_older                              0\n",
       "gdp_per_capita                             0\n",
       "extreme_poverty                            0\n",
       "cardiovasc_death_rate                      0\n",
       "diabetes_prevalence                        0\n",
       "female_smokers                             0\n",
       "male_smokers                               0\n",
       "handwashing_facilities                     0\n",
       "hospital_beds_per_thousand                 0\n",
       "life_expectancy                            0\n",
       "human_development_index                    0\n",
       "dtype: int64"
      ]
     },
     "metadata": {},
     "execution_count": 11
    }
   ],
   "source": [
    "df.isnull().sum()"
   ]
  },
  {
   "source": [
    "We can see there aren't any values missing for total cases and new cases, but there are some values missing for total deaths and new deaths. We need to decide on how to deal with this missing data."
   ],
   "cell_type": "markdown",
   "metadata": {}
  }
 ]
}